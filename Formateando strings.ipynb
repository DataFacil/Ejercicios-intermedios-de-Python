{
 "cells": [
  {
   "cell_type": "markdown",
   "id": "0e30ddc7",
   "metadata": {},
   "source": [
    "Crea una función que tome un string y devuelva el primer caracter de ese string en mayúsculas y el resto en minúsculas."
   ]
  },
  {
   "cell_type": "code",
   "execution_count": 1,
   "id": "2c41004e",
   "metadata": {},
   "outputs": [],
   "source": [
    "def primer_mayusc(string):\n",
    "    lista = []\n",
    "    for x in range(len(string)):\n",
    "        if x == 0:\n",
    "            lista.append(string[x].upper())\n",
    "        else:\n",
    "            lista.append(string[x].lower())\n",
    "    return ''.join(lista)"
   ]
  },
  {
   "cell_type": "code",
   "execution_count": 2,
   "id": "d4d22cc7",
   "metadata": {},
   "outputs": [
    {
     "data": {
      "text/plain": [
       "'Hola como estas'"
      ]
     },
     "execution_count": 2,
     "metadata": {},
     "output_type": "execute_result"
    }
   ],
   "source": [
    "primer_mayusc('hola como estas')"
   ]
  },
  {
   "cell_type": "code",
   "execution_count": 3,
   "id": "196d876a",
   "metadata": {},
   "outputs": [
    {
     "data": {
      "text/plain": [
       "'Goascafflca lafl ladsloalddsef'"
      ]
     },
     "execution_count": 3,
     "metadata": {},
     "output_type": "execute_result"
    }
   ],
   "source": [
    "primer_mayusc('GoascAfflca LAFL ladsloalDDSEF')"
   ]
  },
  {
   "cell_type": "code",
   "execution_count": 4,
   "id": "8577943c",
   "metadata": {},
   "outputs": [],
   "source": [
    "def primer_mayusc2(string):\n",
    "    string = string.lower()\n",
    "    lista_del_string = list(string)\n",
    "    lista_del_string[0] = lista_del_string[0].upper()\n",
    "    return ''.join(lista_del_string)"
   ]
  },
  {
   "cell_type": "code",
   "execution_count": 5,
   "id": "736e2182",
   "metadata": {},
   "outputs": [
    {
     "data": {
      "text/plain": [
       "'Este es un string de prueba'"
      ]
     },
     "execution_count": 5,
     "metadata": {},
     "output_type": "execute_result"
    }
   ],
   "source": [
    "primer_mayusc2('este es un string DE PRUEBA')"
   ]
  },
  {
   "cell_type": "code",
   "execution_count": 6,
   "id": "780d46be",
   "metadata": {},
   "outputs": [
    {
     "data": {
      "text/plain": [
       "'Asvsrkseosfjgsooafjaojao ojsdodjvj ojdfoj'"
      ]
     },
     "execution_count": 6,
     "metadata": {},
     "output_type": "execute_result"
    }
   ],
   "source": [
    "primer_mayusc2('asvsrksEOSFJGSOoafjaojao OJSDodjvj OJDFOj')"
   ]
  },
  {
   "cell_type": "code",
   "execution_count": null,
   "id": "f4c7dbb5",
   "metadata": {},
   "outputs": [],
   "source": []
  }
 ],
 "metadata": {
  "kernelspec": {
   "display_name": "Python 3 (ipykernel)",
   "language": "python",
   "name": "python3"
  },
  "language_info": {
   "codemirror_mode": {
    "name": "ipython",
    "version": 3
   },
   "file_extension": ".py",
   "mimetype": "text/x-python",
   "name": "python",
   "nbconvert_exporter": "python",
   "pygments_lexer": "ipython3",
   "version": "3.9.7"
  }
 },
 "nbformat": 4,
 "nbformat_minor": 5
}
