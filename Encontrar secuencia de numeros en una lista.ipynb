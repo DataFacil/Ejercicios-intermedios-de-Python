{
 "cells": [
  {
   "cell_type": "markdown",
   "id": "2995d6a0",
   "metadata": {},
   "source": [
    "Dada una lista de enteros, identifica si la secuencia [10, 20, 30] está en algún lugar de la lista"
   ]
  },
  {
   "cell_type": "code",
   "execution_count": 25,
   "id": "bdad3a3a",
   "metadata": {},
   "outputs": [],
   "source": [
    "def chequeo_sec(lista):\n",
    "    i = 0\n",
    "    while i < (len(lista) - 2):\n",
    "        if lista[i] == 10 and lista[i+1] == 20 and lista[i+2] == 30:\n",
    "            return True\n",
    "        else:\n",
    "            i += 1\n",
    "    return False"
   ]
  },
  {
   "cell_type": "code",
   "execution_count": 26,
   "id": "08138b9d",
   "metadata": {},
   "outputs": [
    {
     "data": {
      "text/plain": [
       "True"
      ]
     },
     "execution_count": 26,
     "metadata": {},
     "output_type": "execute_result"
    }
   ],
   "source": [
    "chequeo_sec([10,20,30])"
   ]
  },
  {
   "cell_type": "code",
   "execution_count": 27,
   "id": "6a4d9f96",
   "metadata": {},
   "outputs": [
    {
     "data": {
      "text/plain": [
       "False"
      ]
     },
     "execution_count": 27,
     "metadata": {},
     "output_type": "execute_result"
    }
   ],
   "source": [
    "chequeo_sec([10,10,20])"
   ]
  },
  {
   "cell_type": "code",
   "execution_count": 28,
   "id": "f5851ac0",
   "metadata": {},
   "outputs": [
    {
     "data": {
      "text/plain": [
       "True"
      ]
     },
     "execution_count": 28,
     "metadata": {},
     "output_type": "execute_result"
    }
   ],
   "source": [
    "chequeo_sec([10,20,20,40,10,20,30])"
   ]
  },
  {
   "cell_type": "code",
   "execution_count": null,
   "id": "154c1874",
   "metadata": {},
   "outputs": [],
   "source": []
  }
 ],
 "metadata": {
  "kernelspec": {
   "display_name": "Python 3 (ipykernel)",
   "language": "python",
   "name": "python3"
  },
  "language_info": {
   "codemirror_mode": {
    "name": "ipython",
    "version": 3
   },
   "file_extension": ".py",
   "mimetype": "text/x-python",
   "name": "python",
   "nbconvert_exporter": "python",
   "pygments_lexer": "ipython3",
   "version": "3.9.7"
  }
 },
 "nbformat": 4,
 "nbformat_minor": 5
}
